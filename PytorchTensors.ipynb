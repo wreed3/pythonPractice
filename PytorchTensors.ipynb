{
 "cells": [
  {
   "cell_type": "code",
   "execution_count": 5,
   "id": "b8b054f8-d235-48d6-8ed5-0144f54215dc",
   "metadata": {},
   "outputs": [],
   "source": [
    "import torch"
   ]
  },
  {
   "cell_type": "code",
   "execution_count": 6,
   "id": "d7a255de-1e5b-4ee1-9d58-351f6dac54d0",
   "metadata": {},
   "outputs": [
    {
     "data": {
      "text/plain": [
       "torch.float32"
      ]
     },
     "execution_count": 6,
     "metadata": {},
     "output_type": "execute_result"
    }
   ],
   "source": [
    "torch.get_default_dtype()"
   ]
  },
  {
   "cell_type": "code",
   "execution_count": 9,
   "id": "f91d5b15-0a9e-4c9a-86bf-ca137bcf886a",
   "metadata": {},
   "outputs": [
    {
     "data": {
      "text/plain": [
       "tensor([[1., 2., 3.],\n",
       "        [4., 5., 6.]])"
      ]
     },
     "execution_count": 9,
     "metadata": {},
     "output_type": "execute_result"
    }
   ],
   "source": [
    "tensor_arr = torch.Tensor([[1,2,3], [4,5,6]])\n",
    "tensor_arr"
   ]
  },
  {
   "cell_type": "code",
   "execution_count": 10,
   "id": "58bc4448-4ff9-4b33-9e92-c5e20749df32",
   "metadata": {},
   "outputs": [
    {
     "data": {
      "text/plain": [
       "True"
      ]
     },
     "execution_count": 10,
     "metadata": {},
     "output_type": "execute_result"
    }
   ],
   "source": [
    "torch.is_tensor(tensor_arr)"
   ]
  },
  {
   "cell_type": "code",
   "execution_count": 11,
   "id": "0bb39e9e-4452-43e5-9883-425bcb3572f0",
   "metadata": {},
   "outputs": [
    {
     "data": {
      "text/plain": [
       "6"
      ]
     },
     "execution_count": 11,
     "metadata": {},
     "output_type": "execute_result"
    }
   ],
   "source": [
    "torch.numel(tensor_arr)"
   ]
  },
  {
   "cell_type": "code",
   "execution_count": 12,
   "id": "10ad51c1-9131-4f2c-9913-2f991af45964",
   "metadata": {},
   "outputs": [],
   "source": [
    "tensor_uninitialized = torch.Tensor(2,2)"
   ]
  },
  {
   "cell_type": "code",
   "execution_count": 13,
   "id": "8d0ad60d-5f4a-4398-9523-8c908a7da080",
   "metadata": {},
   "outputs": [
    {
     "data": {
      "text/plain": [
       "tensor([[0., 0.],\n",
       "        [0., 0.]])"
      ]
     },
     "execution_count": 13,
     "metadata": {},
     "output_type": "execute_result"
    }
   ],
   "source": [
    "tensor_uninitialized"
   ]
  },
  {
   "cell_type": "code",
   "execution_count": 14,
   "id": "25d7b7d0-a651-490d-ab84-170e0df54530",
   "metadata": {},
   "outputs": [
    {
     "data": {
      "text/plain": [
       "tensor([[0.9569, 0.9313],\n",
       "        [0.4223, 0.0388]])"
      ]
     },
     "execution_count": 14,
     "metadata": {},
     "output_type": "execute_result"
    }
   ],
   "source": [
    "tensor_initialized = torch.rand(2,2)\n",
    "tensor_initialized"
   ]
  },
  {
   "cell_type": "code",
   "execution_count": 15,
   "id": "2a47c9b4-9b0c-429e-bb44-c7b390cd1338",
   "metadata": {},
   "outputs": [
    {
     "data": {
      "text/plain": [
       "tensor([5, 3], dtype=torch.int32)"
      ]
     },
     "execution_count": 15,
     "metadata": {},
     "output_type": "execute_result"
    }
   ],
   "source": [
    "tensor_int = torch.tensor([5,3]).type(torch.IntTensor)\n",
    "tensor_int"
   ]
  },
  {
   "cell_type": "code",
   "execution_count": 16,
   "id": "b0651a7f-7ff4-4457-b146-e54330fd4e6c",
   "metadata": {},
   "outputs": [
    {
     "data": {
      "text/plain": [
       "tensor([1, 2, 3], dtype=torch.int16)"
      ]
     },
     "execution_count": 16,
     "metadata": {},
     "output_type": "execute_result"
    }
   ],
   "source": [
    "tensor_short = torch.ShortTensor([1.0, 2.0,3.0])\n",
    "tensor_short\n"
   ]
  },
  {
   "cell_type": "code",
   "execution_count": 17,
   "id": "f2d35d90-9576-4933-8eb9-3c6fa53b8094",
   "metadata": {},
   "outputs": [
    {
     "data": {
      "text/plain": [
       "tensor([1., 2., 3.], dtype=torch.float16)"
      ]
     },
     "execution_count": 17,
     "metadata": {},
     "output_type": "execute_result"
    }
   ],
   "source": [
    "tensor_float = torch.tensor([1.0, 2.0, 3.0]).type(torch.half)\n",
    "tensor_float\n"
   ]
  },
  {
   "cell_type": "code",
   "execution_count": 18,
   "id": "89b634f8-a34d-4d97-a8dd-c29fe9de66b1",
   "metadata": {},
   "outputs": [
    {
     "data": {
      "text/plain": [
       "tensor([[10, 10, 10, 10, 10, 10],\n",
       "        [10, 10, 10, 10, 10, 10]])"
      ]
     },
     "execution_count": 18,
     "metadata": {},
     "output_type": "execute_result"
    }
   ],
   "source": [
    "tensor_fill = torch.full((2,6), fill_value=10)\n",
    "tensor_fill"
   ]
  },
  {
   "cell_type": "code",
   "execution_count": 19,
   "id": "743a6870-eac0-4bf0-a50a-07a6cddf9948",
   "metadata": {},
   "outputs": [
    {
     "data": {
      "text/plain": [
       "tensor([[1, 1, 1, 1],\n",
       "        [1, 1, 1, 1]], dtype=torch.int32)"
      ]
     },
     "execution_count": 19,
     "metadata": {},
     "output_type": "execute_result"
    }
   ],
   "source": [
    "tensor_of_ones = torch.ones([2,4], dtype=torch.int32)\n",
    "tensor_of_ones"
   ]
  },
  {
   "cell_type": "code",
   "execution_count": 20,
   "id": "63464a7c-8470-4a5b-a342-c3b478314c32",
   "metadata": {},
   "outputs": [
    {
     "data": {
      "text/plain": [
       "tensor([[0, 0, 0, 0],\n",
       "        [0, 0, 0, 0]], dtype=torch.int32)"
      ]
     },
     "execution_count": 20,
     "metadata": {},
     "output_type": "execute_result"
    }
   ],
   "source": [
    "tensor_of_zeros = torch.zeros_like(tensor_of_ones)\n",
    "tensor_of_zeros"
   ]
  },
  {
   "cell_type": "code",
   "execution_count": 21,
   "id": "3b81594a-9d0c-42eb-a064-52b135301f2b",
   "metadata": {},
   "outputs": [
    {
     "data": {
      "text/plain": [
       "tensor([[1., 0., 0., 0., 0.],\n",
       "        [0., 1., 0., 0., 0.],\n",
       "        [0., 0., 1., 0., 0.],\n",
       "        [0., 0., 0., 1., 0.],\n",
       "        [0., 0., 0., 0., 1.]])"
      ]
     },
     "execution_count": 21,
     "metadata": {},
     "output_type": "execute_result"
    }
   ],
   "source": [
    "tensor_eye = torch.eye(5)\n",
    "tensor_eye"
   ]
  },
  {
   "cell_type": "code",
   "execution_count": 22,
   "id": "45a1ca04-1006-42d6-aa28-288454ea0138",
   "metadata": {},
   "outputs": [
    {
     "data": {
      "text/plain": [
       "tensor([[0, 0],\n",
       "        [1, 1],\n",
       "        [2, 2],\n",
       "        [3, 3],\n",
       "        [4, 4]])"
      ]
     },
     "execution_count": 22,
     "metadata": {},
     "output_type": "execute_result"
    }
   ],
   "source": [
    "non_zero = torch.nonzero(tensor_eye)\n",
    "non_zero"
   ]
  },
  {
   "cell_type": "code",
   "execution_count": 23,
   "id": "635900ae-5e45-4c7e-be70-8f978b6b21be",
   "metadata": {},
   "outputs": [],
   "source": [
    "makes_a_copy_of_data = torch.tensor([[0,1,1],[2,2,0]])"
   ]
  },
  {
   "cell_type": "code",
   "execution_count": 24,
   "id": "b18695fa-5c0d-413d-9120-d0a50836e195",
   "metadata": {},
   "outputs": [
    {
     "data": {
      "text/plain": [
       "tensor([[0.1889, 0.9258, 0.0725],\n",
       "        [0.1229, 0.0254, 0.6936]])"
      ]
     },
     "execution_count": 24,
     "metadata": {},
     "output_type": "execute_result"
    }
   ],
   "source": [
    "initial_tensor = torch.rand(2,3)\n",
    "initial_tensor"
   ]
  },
  {
   "cell_type": "code",
   "execution_count": 25,
   "id": "4c0b406d-801e-4785-ae46-7f1c98fea751",
   "metadata": {},
   "outputs": [
    {
     "data": {
      "text/plain": [
       "tensor([[10., 10., 10.],\n",
       "        [10., 10., 10.]])"
      ]
     },
     "execution_count": 25,
     "metadata": {},
     "output_type": "execute_result"
    }
   ],
   "source": [
    "initial_tensor.fill_(10)  #in-place operation(modify the original tensor)"
   ]
  },
  {
   "cell_type": "code",
   "execution_count": 26,
   "id": "96faf35e-274a-4c9d-9d59-29afaa6731a8",
   "metadata": {},
   "outputs": [
    {
     "data": {
      "text/plain": [
       "tensor([[15., 15., 15.],\n",
       "        [15., 15., 15.]])"
      ]
     },
     "execution_count": 26,
     "metadata": {},
     "output_type": "execute_result"
    }
   ],
   "source": [
    "new_tensor = initial_tensor.add(5) #out-of-place operation(does not modify the original tensor and creates a new tensor)\n",
    "new_tensor"
   ]
  },
  {
   "cell_type": "code",
   "execution_count": 27,
   "id": "16a5970d-24ea-4df8-bcd4-2d196337e2f7",
   "metadata": {},
   "outputs": [
    {
     "data": {
      "text/plain": [
       "tensor([[10., 10., 10.],\n",
       "        [10., 10., 10.]])"
      ]
     },
     "execution_count": 27,
     "metadata": {},
     "output_type": "execute_result"
    }
   ],
   "source": [
    "initial_tensor"
   ]
  },
  {
   "cell_type": "code",
   "execution_count": 28,
   "id": "21c176dd-f9e7-4273-98f5-780459c325e7",
   "metadata": {},
   "outputs": [
    {
     "data": {
      "text/plain": [
       "tensor([[15., 15., 15.],\n",
       "        [15., 15., 15.]])"
      ]
     },
     "execution_count": 28,
     "metadata": {},
     "output_type": "execute_result"
    }
   ],
   "source": [
    "another_tensor = initial_tensor.add_(5)\n",
    "another_tensor"
   ]
  },
  {
   "cell_type": "code",
   "execution_count": 29,
   "id": "66b897c3-8b5a-4802-873b-418a4a3bb6e7",
   "metadata": {},
   "outputs": [
    {
     "data": {
      "text/plain": [
       "tensor([[15., 15., 15.],\n",
       "        [15., 15., 15.]])"
      ]
     },
     "execution_count": 29,
     "metadata": {},
     "output_type": "execute_result"
    }
   ],
   "source": [
    "initial_tensor"
   ]
  },
  {
   "cell_type": "code",
   "execution_count": 30,
   "id": "3544bcc1-4900-453c-8acd-fb63f134f787",
   "metadata": {},
   "outputs": [
    {
     "data": {
      "text/plain": [
       "tensor([[3.8730, 3.8730, 3.8730],\n",
       "        [3.8730, 3.8730, 3.8730]])"
      ]
     },
     "execution_count": 30,
     "metadata": {},
     "output_type": "execute_result"
    }
   ],
   "source": [
    "new_tensor.sqrt_()\n",
    "new_tensor"
   ]
  },
  {
   "cell_type": "code",
   "execution_count": 31,
   "id": "37b51577-df0c-45d2-b78d-e44a837363c3",
   "metadata": {},
   "outputs": [
    {
     "data": {
      "text/plain": [
       "tensor([ 0.1000,  0.8071,  1.5143,  2.2214,  2.9286,  3.6357,  4.3429,  5.0500,\n",
       "         5.7571,  6.4643,  7.1714,  7.8786,  8.5857,  9.2929, 10.0000])"
      ]
     },
     "execution_count": 31,
     "metadata": {},
     "output_type": "execute_result"
    }
   ],
   "source": [
    "x = torch.linspace(start=0.1, end=10.0, steps=15)  #1dimentional tensor with 15 elements that are evenly spaced numbers between 0.1 and 10\n",
    "x"
   ]
  },
  {
   "cell_type": "code",
   "execution_count": 32,
   "id": "556aae33-cc07-41c1-bfe8-e012207daaac",
   "metadata": {},
   "outputs": [
    {
     "data": {
      "text/plain": [
       "(tensor([0.1000, 0.8071, 1.5143, 2.2214, 2.9286]),\n",
       " tensor([3.6357, 4.3429, 5.0500, 5.7571, 6.4643]),\n",
       " tensor([ 7.1714,  7.8786,  8.5857,  9.2929, 10.0000]))"
      ]
     },
     "execution_count": 32,
     "metadata": {},
     "output_type": "execute_result"
    }
   ],
   "source": [
    "tensor_chunk = torch.chunk(x,3,0) #take the x tensor and break it into 3 tensors starting a 0\n",
    "tensor_chunk"
   ]
  },
  {
   "cell_type": "code",
   "execution_count": 33,
   "id": "6da692c6-6c91-4433-89fb-d5338b1002d7",
   "metadata": {},
   "outputs": [
    {
     "data": {
      "text/plain": [
       "tensor([0.1000, 0.8071, 1.5143, 2.2214, 2.9286, 3.6357, 4.3429, 5.0500, 5.7571,\n",
       "        6.4643, 3.0000, 4.0000, 5.0000])"
      ]
     },
     "execution_count": 33,
     "metadata": {},
     "output_type": "execute_result"
    }
   ],
   "source": [
    "tensor1 = tensor_chunk[0]\n",
    "tensor2 = tensor_chunk[1]\n",
    "tensor3 = torch.tensor([3.0,4.0,5.0])\n",
    "\n",
    "torch.cat((tensor1, tensor2, tensor3), 0)"
   ]
  },
  {
   "cell_type": "code",
   "execution_count": 35,
   "id": "a12bf8dc-b62a-4da9-8d53-4bdceb3621db",
   "metadata": {},
   "outputs": [
    {
     "data": {
      "text/plain": [
       "tensor([[10.,  8., 30.],\n",
       "        [40.,  5.,  6.],\n",
       "        [12.,  2., 21.]])"
      ]
     },
     "execution_count": 35,
     "metadata": {},
     "output_type": "execute_result"
    }
   ],
   "source": [
    "random_tensor = torch.Tensor([[10,8,30], [40,5,6], [12,2,21]])\n",
    "random_tensor"
   ]
  },
  {
   "cell_type": "code",
   "execution_count": 36,
   "id": "2896874e-cb09-41d0-8d94-f83cc000d250",
   "metadata": {},
   "outputs": [
    {
     "data": {
      "text/plain": [
       "tensor(8.)"
      ]
     },
     "execution_count": 36,
     "metadata": {},
     "output_type": "execute_result"
    }
   ],
   "source": [
    "random_tensor[0,1] # accessing a value in a tensor "
   ]
  },
  {
   "cell_type": "code",
   "execution_count": 37,
   "id": "6248df87-eafa-4253-b7aa-92975f0d07d0",
   "metadata": {},
   "outputs": [
    {
     "data": {
      "text/plain": [
       "tensor([[ 5.,  6.],\n",
       "        [ 2., 21.]])"
      ]
     },
     "execution_count": 37,
     "metadata": {},
     "output_type": "execute_result"
    }
   ],
   "source": [
    "random_tensor[1:,1:] "
   ]
  },
  {
   "cell_type": "code",
   "execution_count": 38,
   "id": "35c121b9-5bc1-481b-a188-5d283b20fec1",
   "metadata": {},
   "outputs": [
    {
     "data": {
      "text/plain": [
       "torch.Size([3, 3])"
      ]
     },
     "execution_count": 38,
     "metadata": {},
     "output_type": "execute_result"
    }
   ],
   "source": [
    "random_tensor.size()"
   ]
  },
  {
   "cell_type": "code",
   "execution_count": 41,
   "id": "a7e93d6a-6294-4343-8fd2-48bf53ade26b",
   "metadata": {},
   "outputs": [],
   "source": [
    "tensor_view = random_tensor.view(3,3) # the view shares the same memory as the original tensor so any changes will change both tensors"
   ]
  },
  {
   "cell_type": "code",
   "execution_count": 42,
   "id": "2943f96c-12f2-4e99-8795-310691a704c4",
   "metadata": {},
   "outputs": [
    {
     "data": {
      "text/plain": [
       "tensor([[ 10.,   8.,  30.],\n",
       "        [ 40.,   5.,   6.],\n",
       "        [ 12.,   2., 100.]])"
      ]
     },
     "execution_count": 42,
     "metadata": {},
     "output_type": "execute_result"
    }
   ],
   "source": [
    "random_tensor[2,2] = 100.0 # the view shares the same memory as the original tensor so any changes will change both tensors\n",
    "tensor_view"
   ]
  },
  {
   "cell_type": "code",
   "execution_count": 43,
   "id": "a96b782d-f579-446a-b17a-32dafefde0e6",
   "metadata": {},
   "outputs": [
    {
     "data": {
      "text/plain": [
       "tensor([[ 10.,   8.,  30.],\n",
       "        [ 40.,   5.,   6.],\n",
       "        [ 12.,   2., 100.]])"
      ]
     },
     "execution_count": 43,
     "metadata": {},
     "output_type": "execute_result"
    }
   ],
   "source": [
    "random_tensor"
   ]
  },
  {
   "cell_type": "code",
   "execution_count": 45,
   "id": "fd9fdefb-9f88-4a47-9b91-43cc2074a56d",
   "metadata": {},
   "outputs": [
    {
     "data": {
      "text/plain": [
       "torch.Size([3, 3])"
      ]
     },
     "execution_count": 45,
     "metadata": {},
     "output_type": "execute_result"
    }
   ],
   "source": [
    "random_tensor.shape"
   ]
  },
  {
   "cell_type": "code",
   "execution_count": 46,
   "id": "056dda72-f742-4c1a-9b5b-aefcb24964c0",
   "metadata": {},
   "outputs": [],
   "source": [
    "#did not write the unsqueeze, squeeze, and transpose operations"
   ]
  },
  {
   "cell_type": "code",
   "execution_count": 47,
   "id": "18d1220d-0f6f-4e74-b961-f7092754bfd5",
   "metadata": {},
   "outputs": [],
   "source": [
    "sorted_tensor, sorted_indices = torch.sort(random_tensor)"
   ]
  },
  {
   "cell_type": "code",
   "execution_count": 48,
   "id": "4cb40b7c-2b9a-4788-b5a7-4aec9fa5fc15",
   "metadata": {},
   "outputs": [
    {
     "data": {
      "text/plain": [
       "tensor([[  8.,  10.,  30.],\n",
       "        [  5.,   6.,  40.],\n",
       "        [  2.,  12., 100.]])"
      ]
     },
     "execution_count": 48,
     "metadata": {},
     "output_type": "execute_result"
    }
   ],
   "source": [
    "sorted_tensor"
   ]
  },
  {
   "cell_type": "code",
   "execution_count": 49,
   "id": "b306587e-1b4d-4541-b493-36c889c31353",
   "metadata": {},
   "outputs": [
    {
     "data": {
      "text/plain": [
       "tensor([[1, 0, 2],\n",
       "        [1, 2, 0],\n",
       "        [1, 0, 2]])"
      ]
     },
     "execution_count": 49,
     "metadata": {},
     "output_type": "execute_result"
    }
   ],
   "source": [
    "sorted_indices"
   ]
  },
  {
   "cell_type": "code",
   "execution_count": 54,
   "id": "0713191f-4561-408d-b661-56b908be3761",
   "metadata": {},
   "outputs": [
    {
     "data": {
      "text/plain": [
       "tensor([[0.6786, 0.9492, 2.0607],\n",
       "        [0.5967, 1.1263, 0.4794]])"
      ]
     },
     "execution_count": 54,
     "metadata": {},
     "output_type": "execute_result"
    }
   ],
   "source": [
    "rand1 = torch.abs(torch.randn(2,3))\n",
    "rand2 = torch.abs(torch.randn(2,3))"
   ]
  },
  {
   "cell_type": "code",
   "execution_count": 51,
   "id": "935653aa-3f88-4ebd-9b87-c6f049221372",
   "metadata": {},
   "outputs": [
    {
     "data": {
      "text/plain": [
       "tensor([[2.2643, 3.2086, 2.4658],\n",
       "        [0.4786, 1.3390, 1.0947]])"
      ]
     },
     "execution_count": 51,
     "metadata": {},
     "output_type": "execute_result"
    }
   ],
   "source": [
    "add = torch.add(rand1, rand2)\n",
    "add"
   ]
  },
  {
   "cell_type": "code",
   "execution_count": 55,
   "id": "e6f112e0-25aa-4754-8d51-b36e5d1d77a9",
   "metadata": {},
   "outputs": [
    {
     "data": {
      "text/plain": [
       "tensor([[0.0031, 0.1539, 0.7157],\n",
       "        [0.1690, 1.1599, 1.0215]])"
      ]
     },
     "execution_count": 55,
     "metadata": {},
     "output_type": "execute_result"
    }
   ],
   "source": [
    "rand1"
   ]
  },
  {
   "cell_type": "code",
   "execution_count": 56,
   "id": "3a4d1168-210e-45e6-bab1-c3ddc3927460",
   "metadata": {},
   "outputs": [
    {
     "data": {
      "text/plain": [
       "tensor([[0.6786, 0.9492, 2.0607],\n",
       "        [0.5967, 1.1263, 0.4794]])"
      ]
     },
     "execution_count": 56,
     "metadata": {},
     "output_type": "execute_result"
    }
   ],
   "source": [
    "rand2"
   ]
  },
  {
   "cell_type": "code",
   "execution_count": 59,
   "id": "1ceb990f-ed20-44af-b9e4-3d02fba73a32",
   "metadata": {},
   "outputs": [
    {
     "data": {
      "text/plain": [
       "tensor([[0.0021, 0.1461, 1.4747],\n",
       "        [0.1009, 1.3064, 0.4897]])"
      ]
     },
     "execution_count": 59,
     "metadata": {},
     "output_type": "execute_result"
    }
   ],
   "source": [
    "multiply = torch.mul(rand1, rand2)\n",
    "multiply\n"
   ]
  },
  {
   "cell_type": "code",
   "execution_count": 62,
   "id": "897cc419-75f9-495d-8718-e2e23d657ead",
   "metadata": {},
   "outputs": [
    {
     "data": {
      "text/plain": [
       "tensor([[10.,  8., 30.],\n",
       "        [40.,  5.,  6.],\n",
       "        [12.,  2., 40.]])"
      ]
     },
     "execution_count": 62,
     "metadata": {},
     "output_type": "execute_result"
    }
   ],
   "source": [
    "tensor_clamp = torch.clamp(random_tensor, min=2, max=40)\n",
    "tensor_clamp"
   ]
  },
  {
   "cell_type": "code",
   "execution_count": 66,
   "id": "f6cbbc30-9957-4392-a57a-686799e4e97b",
   "metadata": {},
   "outputs": [
    {
     "data": {
      "text/plain": [
       "tensor(50.)"
      ]
     },
     "execution_count": 66,
     "metadata": {},
     "output_type": "execute_result"
    }
   ],
   "source": [
    "t1= torch.Tensor([1,2])\n",
    "t2= torch.Tensor([10,20])\n",
    "dot_product = torch.dot(t1, t2)\n",
    "dot_product"
   ]
  },
  {
   "cell_type": "code",
   "execution_count": 67,
   "id": "84d3ef78-b772-4ba0-9822-a23385ca395c",
   "metadata": {},
   "outputs": [],
   "source": [
    "matrix = torch.Tensor([[1,2,3],[4,5,6]])\n",
    "vector = torch.Tensor([0,1,2])"
   ]
  },
  {
   "cell_type": "code",
   "execution_count": 68,
   "id": "ea24b73a-4eef-4cb2-927e-9575f0e7fd45",
   "metadata": {},
   "outputs": [
    {
     "data": {
      "text/plain": [
       "tensor([ 8., 17.])"
      ]
     },
     "execution_count": 68,
     "metadata": {},
     "output_type": "execute_result"
    }
   ],
   "source": [
    "matrix_vector = torch.mv(matrix, vector)\n",
    "matrix_vector"
   ]
  },
  {
   "cell_type": "code",
   "execution_count": 77,
   "id": "6bd87603-a0c0-4527-83d9-0838e241100c",
   "metadata": {},
   "outputs": [],
   "source": [
    "import numpy as np"
   ]
  },
  {
   "cell_type": "code",
   "execution_count": 70,
   "id": "1ccd2d56-a643-45f1-815c-45d452f4c009",
   "metadata": {},
   "outputs": [
    {
     "data": {
      "text/plain": [
       "tensor([[0.4015, 0.5164, 0.0301],\n",
       "        [0.6893, 0.6021, 0.7382],\n",
       "        [0.4853, 0.5265, 0.1898],\n",
       "        [0.2931, 0.7361, 0.3910]])"
      ]
     },
     "execution_count": 70,
     "metadata": {},
     "output_type": "execute_result"
    }
   ],
   "source": [
    "tensor = torch.rand(4,3)\n",
    "tensor"
   ]
  },
  {
   "cell_type": "code",
   "execution_count": 71,
   "id": "0a5ffc16-423c-4543-bff3-77962d6191cf",
   "metadata": {},
   "outputs": [
    {
     "data": {
      "text/plain": [
       "torch.Tensor"
      ]
     },
     "execution_count": 71,
     "metadata": {},
     "output_type": "execute_result"
    }
   ],
   "source": [
    "type(tensor)"
   ]
  },
  {
   "cell_type": "code",
   "execution_count": 72,
   "id": "fe331bc8-71b3-45e2-a34f-2f48e1c8c900",
   "metadata": {},
   "outputs": [
    {
     "data": {
      "text/plain": [
       "array([[0.40147352, 0.51638657, 0.03014112],\n",
       "       [0.6892794 , 0.6021155 , 0.73818654],\n",
       "       [0.48525792, 0.5265437 , 0.18975133],\n",
       "       [0.2930898 , 0.73605394, 0.39099067]], dtype=float32)"
      ]
     },
     "execution_count": 72,
     "metadata": {},
     "output_type": "execute_result"
    }
   ],
   "source": [
    "numpy_from_tensor = tensor.numpy()\n",
    "numpy_from_tensor"
   ]
  },
  {
   "cell_type": "code",
   "execution_count": 73,
   "id": "3c716bd5-d9b2-48a4-9754-da99d7107780",
   "metadata": {},
   "outputs": [
    {
     "data": {
      "text/plain": [
       "numpy.ndarray"
      ]
     },
     "execution_count": 73,
     "metadata": {},
     "output_type": "execute_result"
    }
   ],
   "source": [
    "type(numpy_from_tensor) # The Numpy array and the PyTorch tensor share the same underlying memory"
   ]
  },
  {
   "cell_type": "code",
   "execution_count": 78,
   "id": "093caa51-aafe-46e1-8d8e-26bb5473b98a",
   "metadata": {},
   "outputs": [],
   "source": [
    "numpy_arr = np.array([[1.0,2.0,3.0], [10.0,20.0,30.0], [100.0,200.0,300.0]])"
   ]
  },
  {
   "cell_type": "code",
   "execution_count": 79,
   "id": "8b1e239e-42c9-4755-be6c-06ba7de48f25",
   "metadata": {},
   "outputs": [
    {
     "data": {
      "text/plain": [
       "array([[  1.,   2.,   3.],\n",
       "       [ 10.,  20.,  30.],\n",
       "       [100., 200., 300.]])"
      ]
     },
     "execution_count": 79,
     "metadata": {},
     "output_type": "execute_result"
    }
   ],
   "source": [
    "numpy_arr"
   ]
  },
  {
   "cell_type": "code",
   "execution_count": 80,
   "id": "c3a5254a-6438-44b6-96cb-349df12d5797",
   "metadata": {},
   "outputs": [
    {
     "data": {
      "text/plain": [
       "tensor([[  1.,   2.,   3.],\n",
       "        [ 10.,  20.,  30.],\n",
       "        [100., 200., 300.]], dtype=torch.float64)"
      ]
     },
     "execution_count": 80,
     "metadata": {},
     "output_type": "execute_result"
    }
   ],
   "source": [
    "tensor_from_numpy = torch.from_numpy(numpy_arr)\n",
    "tensor_from_numpy"
   ]
  },
  {
   "cell_type": "code",
   "execution_count": 81,
   "id": "89053774-cbac-4000-873f-b3da4fdda79c",
   "metadata": {},
   "outputs": [
    {
     "data": {
      "text/plain": [
       "torch.Tensor"
      ]
     },
     "execution_count": 81,
     "metadata": {},
     "output_type": "execute_result"
    }
   ],
   "source": [
    "type(tensor_from_numpy)"
   ]
  },
  {
   "cell_type": "code",
   "execution_count": null,
   "id": "af174380-5f32-4402-b5d7-94a589809d19",
   "metadata": {},
   "outputs": [],
   "source": []
  }
 ],
 "metadata": {
  "kernelspec": {
   "display_name": "Python 3 (ipykernel)",
   "language": "python",
   "name": "python3"
  },
  "language_info": {
   "codemirror_mode": {
    "name": "ipython",
    "version": 3
   },
   "file_extension": ".py",
   "mimetype": "text/x-python",
   "name": "python",
   "nbconvert_exporter": "python",
   "pygments_lexer": "ipython3",
   "version": "3.12.2"
  }
 },
 "nbformat": 4,
 "nbformat_minor": 5
}
